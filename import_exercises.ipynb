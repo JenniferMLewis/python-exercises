{
 "cells": [
  {
   "cell_type": "code",
   "execution_count": 147,
   "metadata": {},
   "outputs": [],
   "source": [
    "from function_exercises import get_letter_grade as glg"
   ]
  },
  {
   "cell_type": "code",
   "execution_count": 148,
   "metadata": {},
   "outputs": [
    {
     "data": {
      "text/plain": [
       "'Your grade is... a B!'"
      ]
     },
     "execution_count": 148,
     "metadata": {},
     "output_type": "execute_result"
    }
   ],
   "source": [
    "glg(85)"
   ]
  },
  {
   "cell_type": "code",
   "execution_count": 149,
   "metadata": {},
   "outputs": [],
   "source": [
    "import function_exercises as fe"
   ]
  },
  {
   "cell_type": "code",
   "execution_count": 150,
   "metadata": {},
   "outputs": [
    {
     "data": {
      "text/plain": [
       "False"
      ]
     },
     "execution_count": 150,
     "metadata": {},
     "output_type": "execute_result"
    }
   ],
   "source": [
    "fe.is_vowel(\"g\")"
   ]
  },
  {
   "cell_type": "code",
   "execution_count": 151,
   "metadata": {},
   "outputs": [],
   "source": [
    "import itertools as itools"
   ]
  },
  {
   "cell_type": "code",
   "execution_count": 152,
   "metadata": {},
   "outputs": [
    {
     "data": {
      "text/plain": [
       "9"
      ]
     },
     "execution_count": 152,
     "metadata": {},
     "output_type": "execute_result"
    }
   ],
   "source": [
    "len(list(itools.product('ABC','123')))\n",
    "# 9 ways"
   ]
  },
  {
   "cell_type": "code",
   "execution_count": 153,
   "metadata": {},
   "outputs": [
    {
     "data": {
      "text/plain": [
       "6"
      ]
     },
     "execution_count": 153,
     "metadata": {},
     "output_type": "execute_result"
    }
   ],
   "source": [
    "len(list(itools.combinations('ABCD',2)))\n",
    "# 6 ways"
   ]
  },
  {
   "cell_type": "code",
   "execution_count": 154,
   "metadata": {},
   "outputs": [
    {
     "data": {
      "text/plain": [
       "12"
      ]
     },
     "execution_count": 154,
     "metadata": {},
     "output_type": "execute_result"
    }
   ],
   "source": [
    "len(list(itools.permutations('ABCD',2)))\n",
    "# 12 ways"
   ]
  },
  {
   "cell_type": "code",
   "execution_count": 155,
   "metadata": {},
   "outputs": [
    {
     "data": {
      "text/plain": [
       "19"
      ]
     },
     "execution_count": 155,
     "metadata": {},
     "output_type": "execute_result"
    }
   ],
   "source": [
    "import json\n",
    "\n",
    "profiles = json.load(open('profiles.json'))\n",
    "\n",
    "len(profiles)\n",
    "# 19 Users\n",
    "\n"
   ]
  },
  {
   "cell_type": "code",
   "execution_count": 156,
   "metadata": {},
   "outputs": [
    {
     "name": "stdout",
     "output_type": "stream",
     "text": [
      "9 Users are active.\n",
      "10 Users are inactive.\n"
     ]
    }
   ],
   "source": [
    "active_users = 0\n",
    "for i in profiles:\n",
    "    if i['isActive'] == True:\n",
    "        active_users += 1\n",
    "print(f\"{active_users} Users are active.\")\n",
    "\n",
    "# 9 active users\n",
    "\n",
    "inactive_users = 0\n",
    "for i in profiles:\n",
    "    if i['isActive'] == False:\n",
    "        inactive_users += 1\n",
    "print(f\"{inactive_users} Users are inactive.\")\n",
    "\n",
    "#10 inactive users"
   ]
  },
  {
   "cell_type": "code",
   "execution_count": 157,
   "metadata": {},
   "outputs": [
    {
     "name": "stdout",
     "output_type": "stream",
     "text": [
      "Grand Total of all user's balances: $52667.02\n",
      "The Average User Balance is : $2771.95\n"
     ]
    }
   ],
   "source": [
    "money = []\n",
    "money_clean = []\n",
    "real_money = []\n",
    "for gt in profiles:\n",
    "    if \"$\" in gt['balance']:\n",
    "        money.append(gt['balance'].strip(\"$\"))\n",
    "for m in money:\n",
    "    money_clean.append(m.replace(\",\", \"\"))\n",
    "for c in money_clean:\n",
    "    real_money.append(float(c))\n",
    "balance_gt = sum(real_money)\n",
    "avg_bal = balance_gt / len(profiles)\n",
    "print(f\"Grand Total of all user's balances: ${balance_gt}\")\n",
    "\n",
    "print(\"The Average User Balance is : ${:.2f}\".format(avg_bal))\n"
   ]
  },
  {
   "cell_type": "markdown",
   "metadata": {},
   "source": []
  },
  {
   "cell_type": "code",
   "execution_count": 158,
   "metadata": {},
   "outputs": [
    {
     "name": "stdout",
     "output_type": "stream",
     "text": [
      "Avery Flynn has the Lowest Balance.\n",
      "Fay Hammond has the Highest Balance.\n"
     ]
    }
   ],
   "source": [
    "# User with lowest Balance:\n",
    "lowest_balance = \"\"\n",
    "min_string = \"{:.2f}\".format(min(real_money))\n",
    "min_string = \"$\" + min_string[0:1] + \",\" + min_string[1:]\n",
    "for u in profiles:\n",
    "    if u['balance'] == min_string:\n",
    "        lowest_balance += u['name']\n",
    "print(f\"{lowest_balance} has the Lowest Balance.\")\n",
    "\n",
    "# User with Highest Balance:\n",
    "highest_balance = \"\"\n",
    "max_string = \"{:.2f}\".format(max(real_money))\n",
    "max_string = \"$\" + max_string[0:1] + \",\" + max_string[1:]\n",
    "for u in profiles:\n",
    "    if u['balance'] == max_string:\n",
    "        highest_balance += u['name']\n",
    "print(f\"{highest_balance} has the Highest Balance.\")"
   ]
  },
  {
   "cell_type": "code",
   "execution_count": 159,
   "metadata": {},
   "outputs": [
    {
     "name": "stdout",
     "output_type": "stream",
     "text": [
      "strawberry is the most popular fruit.\n",
      "apple is the least popluar fruit.\n"
     ]
    }
   ],
   "source": [
    "from collections import Counter\n",
    "# Most Common Favourite Fruit\n",
    "fruits = []\n",
    "for f in profiles:\n",
    "    fruits.append(f['favoriteFruit'])\n",
    "print(f\"{max(Counter(fruits))} is the most popular fruit.\")\n",
    "\n",
    "# Least Common Favourite Fruit\n",
    "print(f\"{min(Counter(fruits))} is the least popluar fruit.\")\n",
    "    \n",
    "    \n"
   ]
  },
  {
   "cell_type": "code",
   "execution_count": 160,
   "metadata": {},
   "outputs": [
    {
     "name": "stdout",
     "output_type": "stream",
     "text": [
      "There are 210 Unread Messages among all users.\n"
     ]
    }
   ],
   "source": [
    "# Total Number of Unread messages for all users (greeting, rip is_digit)\n",
    "unread_list = []\n",
    "for g in profiles:\n",
    "    digits = \"\"\n",
    "    for l in g['greeting']:\n",
    "        if l.isdigit():\n",
    "            digits += l\n",
    "    unread_list.append(int(digits))\n",
    "print(f\"There are {sum(unread_list)} Unread Messages among all users.\")\n"
   ]
  }
 ],
 "metadata": {
  "kernelspec": {
   "display_name": "Python 3.8.9 64-bit",
   "language": "python",
   "name": "python3"
  },
  "language_info": {
   "codemirror_mode": {
    "name": "ipython",
    "version": 3
   },
   "file_extension": ".py",
   "mimetype": "text/x-python",
   "name": "python",
   "nbconvert_exporter": "python",
   "pygments_lexer": "ipython3",
   "version": "3.8.9"
  },
  "orig_nbformat": 4,
  "vscode": {
   "interpreter": {
    "hash": "31f2aee4e71d21fbe5cf8b01ff0e069b9275f58929596ceb00d14d90e3e16cd6"
   }
  }
 },
 "nbformat": 4,
 "nbformat_minor": 2
}
