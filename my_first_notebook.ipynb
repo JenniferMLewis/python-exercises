{
 "cells": [
  {
   "cell_type": "code",
   "execution_count": 1,
   "metadata": {},
   "outputs": [
    {
     "name": "stdout",
     "output_type": "stream",
     "text": [
      "Hello, World!\n"
     ]
    }
   ],
   "source": [
    "print(\"Hello, World!\")"
   ]
  },
  {
   "cell_type": "code",
   "execution_count": 2,
   "metadata": {},
   "outputs": [
    {
     "name": "stdout",
     "output_type": "stream",
     "text": [
      "Hello, World!\n"
     ]
    }
   ],
   "source": [
    "Welcome = \"Hello, World!\"\n",
    "print(Welcome)"
   ]
  },
  {
   "cell_type": "code",
   "execution_count": 4,
   "metadata": {},
   "outputs": [
    {
     "name": "stdout",
     "output_type": "stream",
     "text": [
      "Hello, World!\n"
     ]
    }
   ],
   "source": [
    "firstword= \"Hello, \"\n",
    "secondword = \"World!\"\n",
    "print(firstword + secondword)"
   ]
  },
  {
   "cell_type": "code",
   "execution_count": 7,
   "metadata": {},
   "outputs": [
    {
     "name": "stdout",
     "output_type": "stream",
     "text": [
      "Hello, World!\n"
     ]
    }
   ],
   "source": [
    "def Hello():\n",
    "    print(\"Hello, World!\")\n",
    "Hello()\n"
   ]
  },
  {
   "cell_type": "markdown",
   "metadata": {},
   "source": [
    "<!-- [Clover] + / creates a markdown like this.\n",
    "[Colver] + Enter inserts a new cell of code\n",
    "CTRL + Enter stops editing the cell, will run the code in a cell too -->"
   ]
  },
  {
   "cell_type": "code",
   "execution_count": 3,
   "metadata": {},
   "outputs": [
    {
     "ename": "TypeError",
     "evalue": "can only concatenate str (not \"int\") to str",
     "output_type": "error",
     "traceback": [
      "\u001b[0;31m---------------------------------------------------------------------------\u001b[0m",
      "\u001b[0;31mTypeError\u001b[0m                                 Traceback (most recent call last)",
      "\u001b[1;32m/Users/remeny/codeup-data-science/python-exercises/my_first_notebook.ipynb Cell 6'\u001b[0m in \u001b[0;36m<cell line: 1>\u001b[0;34m()\u001b[0m\n\u001b[0;32m----> <a href='vscode-notebook-cell:/Users/remeny/codeup-data-science/python-exercises/my_first_notebook.ipynb#ch0000006?line=0'>1</a>\u001b[0m \u001b[39mprint\u001b[39m(\u001b[39m'\u001b[39;49m\u001b[39m1\u001b[39;49m\u001b[39m'\u001b[39;49m \u001b[39m+\u001b[39;49m \u001b[39m2\u001b[39;49m)\n",
      "\u001b[0;31mTypeError\u001b[0m: can only concatenate str (not \"int\") to str"
     ]
    }
   ],
   "source": [
    "print('1' + 2)"
   ]
  },
  {
   "cell_type": "code",
   "execution_count": 4,
   "metadata": {},
   "outputs": [
    {
     "name": "stdout",
     "output_type": "stream",
     "text": [
      "2\n"
     ]
    }
   ],
   "source": [
    "print(6 % 4)"
   ]
  },
  {
   "cell_type": "code",
   "execution_count": 5,
   "metadata": {},
   "outputs": [
    {
     "name": "stdout",
     "output_type": "stream",
     "text": [
      "<class 'int'>\n"
     ]
    }
   ],
   "source": [
    "print(type(6 % 4))"
   ]
  },
  {
   "cell_type": "code",
   "execution_count": 6,
   "metadata": {},
   "outputs": [
    {
     "name": "stdout",
     "output_type": "stream",
     "text": [
      "<class 'type'>\n"
     ]
    }
   ],
   "source": [
    "print(type(type(6 % 4)))"
   ]
  },
  {
   "cell_type": "code",
   "execution_count": 8,
   "metadata": {},
   "outputs": [
    {
     "ename": "TypeError",
     "evalue": "can only concatenate str (not \"int\") to str",
     "output_type": "error",
     "traceback": [
      "\u001b[0;31m---------------------------------------------------------------------------\u001b[0m",
      "\u001b[0;31mTypeError\u001b[0m                                 Traceback (most recent call last)",
      "\u001b[1;32m/Users/remeny/codeup-data-science/python-exercises/my_first_notebook.ipynb Cell 10'\u001b[0m in \u001b[0;36m<cell line: 1>\u001b[0;34m()\u001b[0m\n\u001b[0;32m----> <a href='vscode-notebook-cell:/Users/remeny/codeup-data-science/python-exercises/my_first_notebook.ipynb#ch0000010?line=0'>1</a>\u001b[0m \u001b[39mprint\u001b[39m(\u001b[39m'\u001b[39;49m\u001b[39m3 + 4 is \u001b[39;49m\u001b[39m'\u001b[39;49m \u001b[39m+\u001b[39;49m \u001b[39m3\u001b[39;49m \u001b[39m+\u001b[39m \u001b[39m4\u001b[39m)\n",
      "\u001b[0;31mTypeError\u001b[0m: can only concatenate str (not \"int\") to str"
     ]
    }
   ],
   "source": [
    "print('3 + 4 is ' + 3 + 4)"
   ]
  },
  {
   "cell_type": "code",
   "execution_count": 9,
   "metadata": {},
   "outputs": [
    {
     "name": "stdout",
     "output_type": "stream",
     "text": [
      "False\n"
     ]
    }
   ],
   "source": [
    "print(0 < 0)"
   ]
  },
  {
   "cell_type": "code",
   "execution_count": 10,
   "metadata": {},
   "outputs": [
    {
     "name": "stdout",
     "output_type": "stream",
     "text": [
      "False\n"
     ]
    }
   ],
   "source": [
    "print('False' == False)"
   ]
  },
  {
   "cell_type": "code",
   "execution_count": 11,
   "metadata": {},
   "outputs": [
    {
     "name": "stdout",
     "output_type": "stream",
     "text": [
      "False\n"
     ]
    }
   ],
   "source": [
    "print(True == 'True')"
   ]
  },
  {
   "cell_type": "code",
   "execution_count": 12,
   "metadata": {},
   "outputs": [
    {
     "name": "stdout",
     "output_type": "stream",
     "text": [
      "True\n"
     ]
    }
   ],
   "source": [
    "print(5 >= -5)"
   ]
  },
  {
   "cell_type": "code",
   "execution_count": 13,
   "metadata": {},
   "outputs": [
    {
     "name": "stdout",
     "output_type": "stream",
     "text": [
      "True\n"
     ]
    }
   ],
   "source": [
    "print(True or \"42\")"
   ]
  },
  {
   "cell_type": "code",
   "execution_count": 14,
   "metadata": {},
   "outputs": [
    {
     "name": "stdout",
     "output_type": "stream",
     "text": [
      "1\n"
     ]
    }
   ],
   "source": [
    "print(6 % 5)"
   ]
  },
  {
   "cell_type": "code",
   "execution_count": 15,
   "metadata": {},
   "outputs": [
    {
     "name": "stdout",
     "output_type": "stream",
     "text": [
      "False\n"
     ]
    }
   ],
   "source": [
    "print(5 < 4 and 1 == 1)"
   ]
  },
  {
   "cell_type": "code",
   "execution_count": 16,
   "metadata": {},
   "outputs": [
    {
     "name": "stdout",
     "output_type": "stream",
     "text": [
      "False\n"
     ]
    }
   ],
   "source": [
    "print('codeup' == 'codeup' and 'codeup' == 'Codeup')"
   ]
  },
  {
   "cell_type": "code",
   "execution_count": 19,
   "metadata": {},
   "outputs": [
    {
     "ename": "SyntaxError",
     "evalue": "invalid syntax (1914492157.py, line 1)",
     "output_type": "error",
     "traceback": [
      "\u001b[0;36m  Input \u001b[0;32mIn [19]\u001b[0;36m\u001b[0m\n\u001b[0;31m    print(4 >= 0 and 1 !== '1')\u001b[0m\n\u001b[0m                         ^\u001b[0m\n\u001b[0;31mSyntaxError\u001b[0m\u001b[0;31m:\u001b[0m invalid syntax\n"
     ]
    }
   ],
   "source": [
    "print(4 >= 0 and 1 !== '1')"
   ]
  },
  {
   "cell_type": "code",
   "execution_count": 20,
   "metadata": {},
   "outputs": [
    {
     "name": "stdout",
     "output_type": "stream",
     "text": [
      "True\n"
     ]
    }
   ],
   "source": [
    "print(6 % 3 == 0)"
   ]
  },
  {
   "cell_type": "code",
   "execution_count": 21,
   "metadata": {},
   "outputs": [
    {
     "name": "stdout",
     "output_type": "stream",
     "text": [
      "True\n"
     ]
    }
   ],
   "source": [
    "print(5 % 2 != 0) "
   ]
  },
  {
   "cell_type": "code",
   "execution_count": 23,
   "metadata": {},
   "outputs": [
    {
     "ename": "TypeError",
     "evalue": "can only concatenate list (not \"int\") to list",
     "output_type": "error",
     "traceback": [
      "\u001b[0;31m---------------------------------------------------------------------------\u001b[0m",
      "\u001b[0;31mTypeError\u001b[0m                                 Traceback (most recent call last)",
      "\u001b[1;32m/Users/remeny/codeup-data-science/python-exercises/my_first_notebook.ipynb Cell 22'\u001b[0m in \u001b[0;36m<cell line: 1>\u001b[0;34m()\u001b[0m\n\u001b[0;32m----> <a href='vscode-notebook-cell:/Users/remeny/codeup-data-science/python-exercises/my_first_notebook.ipynb#ch0000022?line=0'>1</a>\u001b[0m \u001b[39mprint\u001b[39m([\u001b[39m1\u001b[39;49m] \u001b[39m+\u001b[39;49m \u001b[39m2\u001b[39;49m)\n",
      "\u001b[0;31mTypeError\u001b[0m: can only concatenate list (not \"int\") to list"
     ]
    }
   ],
   "source": [
    "print([1] + 2)"
   ]
  },
  {
   "cell_type": "code",
   "execution_count": 25,
   "metadata": {},
   "outputs": [
    {
     "name": "stdout",
     "output_type": "stream",
     "text": [
      "[1, 2]\n"
     ]
    }
   ],
   "source": [
    "print([1] + [2])"
   ]
  },
  {
   "cell_type": "code",
   "execution_count": 26,
   "metadata": {},
   "outputs": [
    {
     "name": "stdout",
     "output_type": "stream",
     "text": [
      "[1, 1]\n"
     ]
    }
   ],
   "source": [
    "print([1] * 2)"
   ]
  },
  {
   "cell_type": "code",
   "execution_count": 27,
   "metadata": {},
   "outputs": [
    {
     "ename": "TypeError",
     "evalue": "can't multiply sequence by non-int of type 'list'",
     "output_type": "error",
     "traceback": [
      "\u001b[0;31m---------------------------------------------------------------------------\u001b[0m",
      "\u001b[0;31mTypeError\u001b[0m                                 Traceback (most recent call last)",
      "\u001b[1;32m/Users/remeny/codeup-data-science/python-exercises/my_first_notebook.ipynb Cell 25'\u001b[0m in \u001b[0;36m<cell line: 1>\u001b[0;34m()\u001b[0m\n\u001b[0;32m----> <a href='vscode-notebook-cell:/Users/remeny/codeup-data-science/python-exercises/my_first_notebook.ipynb#ch0000025?line=0'>1</a>\u001b[0m \u001b[39mprint\u001b[39m([\u001b[39m1\u001b[39;49m] \u001b[39m*\u001b[39;49m [\u001b[39m2\u001b[39;49m])\n",
      "\u001b[0;31mTypeError\u001b[0m: can't multiply sequence by non-int of type 'list'"
     ]
    }
   ],
   "source": [
    "print([1] * [2])"
   ]
  },
  {
   "cell_type": "code",
   "execution_count": 29,
   "metadata": {},
   "outputs": [
    {
     "name": "stdout",
     "output_type": "stream",
     "text": [
      "True\n"
     ]
    }
   ],
   "source": [
    "print([] + [] == [])"
   ]
  },
  {
   "cell_type": "code",
   "execution_count": 31,
   "metadata": {},
   "outputs": [
    {
     "ename": "TypeError",
     "evalue": "unsupported operand type(s) for +: 'dict' and 'dict'",
     "output_type": "error",
     "traceback": [
      "\u001b[0;31m---------------------------------------------------------------------------\u001b[0m",
      "\u001b[0;31mTypeError\u001b[0m                                 Traceback (most recent call last)",
      "\u001b[1;32m/Users/remeny/codeup-data-science/python-exercises/my_first_notebook.ipynb Cell 27'\u001b[0m in \u001b[0;36m<cell line: 1>\u001b[0;34m()\u001b[0m\n\u001b[0;32m----> <a href='vscode-notebook-cell:/Users/remeny/codeup-data-science/python-exercises/my_first_notebook.ipynb#ch0000027?line=0'>1</a>\u001b[0m \u001b[39mprint\u001b[39m({} \u001b[39m+\u001b[39;49m {})\n",
      "\u001b[0;31mTypeError\u001b[0m: unsupported operand type(s) for +: 'dict' and 'dict'"
     ]
    }
   ],
   "source": [
    "print({} + {})"
   ]
  },
  {
   "cell_type": "code",
   "execution_count": 3,
   "metadata": {},
   "outputs": [
    {
     "name": "stdout",
     "output_type": "stream",
     "text": [
      "$ 9 for 3 day(s)\n",
      "$ 15 for 5 day(s)\n",
      "$ 3 for 1 day(s)\n",
      "$27 to rent the movies.\n",
      "$ 9 for 3 day(s)\n",
      "$ 15 for 5 day(s)\n",
      "$ 3 for 1 day(s)\n"
     ]
    }
   ],
   "source": [
    "# You have rented some movies for your kids: The little mermaid (for 3 days), Brother Bear (for 5 days, they love it), and Hercules (1 day, you don't know yet if they're going to like it). If price for a movie per day is 3 dollars, how much will you have to pay? #\n",
    "\n",
    "def movierental(days):\n",
    "    price_of_movie_perday = 3\n",
    "    rentalfee = price_of_movie_perday * days\n",
    "    print(\"$ \" + str(rentalfee) + \" for \" + str(days) + \" day(s)\")\n",
    "    return rentalfee\n",
    "\n",
    "lm = movierental(3) #(giving 9)\n",
    "bb = movierental(5) #(giving 15)\n",
    "herc = movierental(1) # (giving 3)\n",
    "total = lm + bb + herc\n",
    "print(\"$\" + str(total) + \" to rent the movies.\")\n",
    "\n",
    "assert movierental(3) == 9\n",
    "assert movierental(5) == 15\n",
    "assert movierental(1) == 3"
   ]
  },
  {
   "cell_type": "code",
   "execution_count": 46,
   "metadata": {},
   "outputs": [
    {
     "name": "stdout",
     "output_type": "stream",
     "text": [
      "$7420 made this week.\n"
     ]
    }
   ],
   "source": [
    "google_PayPH = 400\n",
    "amazon_PayPH = 380\n",
    "fB_PayPH = 350\n",
    "google_Hours = 6\n",
    "amazon_Hours = 4\n",
    "fB_Hours = 10\n",
    "\n",
    "salary_This_Week = (google_PayPH * google_Hours) + (amazon_PayPH * amazon_Hours) + (fB_PayPH * fB_Hours)\n",
    "print(\"$\" + str(salary_This_Week) + \" made this week.\")"
   ]
  },
  {
   "cell_type": "code",
   "execution_count": 52,
   "metadata": {},
   "outputs": [
    {
     "name": "stdout",
     "output_type": "stream",
     "text": [
      "Can Attend\n",
      "No, Scheduling Conflict.\n",
      "No, The class if full.\n",
      "No, The class is full, and there's a Scheduling conflict.\n"
     ]
    }
   ],
   "source": [
    "def can_Enroll(room,time):\n",
    "    if room == True and time == True:\n",
    "        print(\"Can Attend\")\n",
    "        return \"yes\"\n",
    "    elif room == True and time == False:\n",
    "        print(\"No, Scheduling Conflict.\")\n",
    "        return \"sch\"\n",
    "    elif room == False and time == True:\n",
    "        print(\"No, The class if full.\")\n",
    "        return \"time\"\n",
    "    else:\n",
    "        print(\"No, The class is full, and there's a Scheduling conflict.\")\n",
    "        return \"both\"\n",
    "\n",
    "assert can_Enroll(True,True) == \"yes\"\n",
    "assert can_Enroll(True,False) == \"sch\"\n",
    "assert can_Enroll(False,True) == \"time\"\n",
    "assert can_Enroll(False,False) == \"both\""
   ]
  },
  {
   "cell_type": "code",
   "execution_count": 56,
   "metadata": {},
   "outputs": [
    {
     "name": "stdout",
     "output_type": "stream",
     "text": [
      "Sorry, this is not a Valid offer, please check number of items or current date!\n",
      "Congratulations! This offer is Valid!\n",
      "Congratulations! This offer is Valid!\n",
      "Sorry, this is not a Valid offer, please check number of items or current date!\n",
      "Sorry, this is not a Valid offer, please check number of items or current date!\n"
     ]
    }
   ],
   "source": [
    "def offervalid(items,date,prem):\n",
    "    itemcheck = (items > 2)\n",
    "    datecheck = (date < 8012022)\n",
    "    if itemcheck == True and datecheck == True or prem == True and datecheck == True:\n",
    "        print(\"Congratulations! This offer is Valid!\")\n",
    "        return True\n",
    "    elif itemcheck == False or datecheck == False:\n",
    "        print(\"Sorry, this is not a Valid offer, please check number of items or current date!\")\n",
    "        return False\n",
    "\n",
    "assert offervalid(2,7122022,False) == False\n",
    "assert offervalid(2,7122022,True) == True\n",
    "assert offervalid(4,7122022,False) == True\n",
    "assert offervalid(2,9122022,True) == False\n",
    "assert offervalid(6,9122022,False) == False"
   ]
  },
  {
   "cell_type": "code",
   "execution_count": 73,
   "metadata": {},
   "outputs": [
    {
     "name": "stdout",
     "output_type": "stream",
     "text": [
      "True True True True True True True True\n",
      "Your Username and Password have been accepted\n"
     ]
    }
   ],
   "source": [
    "def username_and_password(name,password):\n",
    "    strusername = str(name)\n",
    "    strpassword = str(password)\n",
    "    c = (len(strpassword) >= 5)\n",
    "    d = (len(strusername) <= 20)\n",
    "    e = (strpassword != strusername)\n",
    "    f = (strusername != strpassword)\n",
    "    g = (strusername[0] != \" \")\n",
    "    a = (strusername[-1] != \" \")\n",
    "    h = (strpassword[0] != \" \")\n",
    "    b = (strpassword[-1] != \" \")\n",
    "    print(a,b,c,d,e,f,g,h)\n",
    "    if a == False or b == False or c == False or d == False or e == False or f == False or g == False or h == False:\n",
    "        print(\"Please try another username or password\")\n",
    "        return False\n",
    "    else:\n",
    "        print(\"Your Username and Password have been accepted\")\n",
    "        return True\n",
    "\n",
    "\n",
    "\n",
    "assert username_and_password(\"codeup\",\"notastrongpassword\") == True"
   ]
  },
  {
   "cell_type": "code",
   "execution_count": null,
   "metadata": {},
   "outputs": [],
   "source": []
  }
 ],
 "metadata": {
  "kernelspec": {
   "display_name": "Python 3.8.9 64-bit",
   "language": "python",
   "name": "python3"
  },
  "language_info": {
   "codemirror_mode": {
    "name": "ipython",
    "version": 3
   },
   "file_extension": ".py",
   "mimetype": "text/x-python",
   "name": "python",
   "nbconvert_exporter": "python",
   "pygments_lexer": "ipython3",
   "version": "3.8.9"
  },
  "orig_nbformat": 4,
  "vscode": {
   "interpreter": {
    "hash": "31f2aee4e71d21fbe5cf8b01ff0e069b9275f58929596ceb00d14d90e3e16cd6"
   }
  }
 },
 "nbformat": 4,
 "nbformat_minor": 2
}
