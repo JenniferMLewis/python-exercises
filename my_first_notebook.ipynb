{
 "cells": [
  {
   "cell_type": "code",
   "execution_count": 1,
   "metadata": {},
   "outputs": [
    {
     "name": "stdout",
     "output_type": "stream",
     "text": [
      "Hello, World!\n"
     ]
    }
   ],
   "source": [
    "print(\"Hello, World!\")"
   ]
  },
  {
   "cell_type": "code",
   "execution_count": 2,
   "metadata": {},
   "outputs": [
    {
     "name": "stdout",
     "output_type": "stream",
     "text": [
      "Hello, World!\n"
     ]
    }
   ],
   "source": [
    "Welcome = \"Hello, World!\"\n",
    "print(Welcome)"
   ]
  },
  {
   "cell_type": "code",
   "execution_count": 4,
   "metadata": {},
   "outputs": [
    {
     "name": "stdout",
     "output_type": "stream",
     "text": [
      "Hello, World!\n"
     ]
    }
   ],
   "source": [
    "firstword= \"Hello, \"\n",
    "secondword = \"World!\"\n",
    "print(firstword + secondword)"
   ]
  },
  {
   "cell_type": "code",
   "execution_count": 7,
   "metadata": {},
   "outputs": [
    {
     "name": "stdout",
     "output_type": "stream",
     "text": [
      "Hello, World!\n"
     ]
    }
   ],
   "source": [
    "def Hello():\n",
    "    print(\"Hello, World!\")\n",
    "Hello()\n"
   ]
  },
  {
   "cell_type": "markdown",
   "metadata": {},
   "source": [
    "<!-- [Clover] + / creates a markdown like this.\n",
    "[Colver] + Enter inserts a new cell of code\n",
    "CTRL + Enter stops editing the cell, will run the code in a cell too -->"
   ]
  },
  {
   "cell_type": "code",
   "execution_count": 3,
   "metadata": {},
   "outputs": [
    {
     "ename": "TypeError",
     "evalue": "can only concatenate str (not \"int\") to str",
     "output_type": "error",
     "traceback": [
      "\u001b[0;31m---------------------------------------------------------------------------\u001b[0m",
      "\u001b[0;31mTypeError\u001b[0m                                 Traceback (most recent call last)",
      "\u001b[1;32m/Users/remeny/codeup-data-science/python-exercises/my_first_notebook.ipynb Cell 6'\u001b[0m in \u001b[0;36m<cell line: 1>\u001b[0;34m()\u001b[0m\n\u001b[0;32m----> <a href='vscode-notebook-cell:/Users/remeny/codeup-data-science/python-exercises/my_first_notebook.ipynb#ch0000006?line=0'>1</a>\u001b[0m \u001b[39mprint\u001b[39m(\u001b[39m'\u001b[39;49m\u001b[39m1\u001b[39;49m\u001b[39m'\u001b[39;49m \u001b[39m+\u001b[39;49m \u001b[39m2\u001b[39;49m)\n",
      "\u001b[0;31mTypeError\u001b[0m: can only concatenate str (not \"int\") to str"
     ]
    }
   ],
   "source": [
    "print('1' + 2)"
   ]
  },
  {
   "cell_type": "code",
   "execution_count": 4,
   "metadata": {},
   "outputs": [
    {
     "name": "stdout",
     "output_type": "stream",
     "text": [
      "2\n"
     ]
    }
   ],
   "source": [
    "print(6 % 4)"
   ]
  },
  {
   "cell_type": "code",
   "execution_count": 5,
   "metadata": {},
   "outputs": [
    {
     "name": "stdout",
     "output_type": "stream",
     "text": [
      "<class 'int'>\n"
     ]
    }
   ],
   "source": [
    "print(type(6 % 4))"
   ]
  },
  {
   "cell_type": "code",
   "execution_count": 6,
   "metadata": {},
   "outputs": [
    {
     "name": "stdout",
     "output_type": "stream",
     "text": [
      "<class 'type'>\n"
     ]
    }
   ],
   "source": [
    "print(type(type(6 % 4)))"
   ]
  },
  {
   "cell_type": "code",
   "execution_count": 8,
   "metadata": {},
   "outputs": [
    {
     "ename": "TypeError",
     "evalue": "can only concatenate str (not \"int\") to str",
     "output_type": "error",
     "traceback": [
      "\u001b[0;31m---------------------------------------------------------------------------\u001b[0m",
      "\u001b[0;31mTypeError\u001b[0m                                 Traceback (most recent call last)",
      "\u001b[1;32m/Users/remeny/codeup-data-science/python-exercises/my_first_notebook.ipynb Cell 10'\u001b[0m in \u001b[0;36m<cell line: 1>\u001b[0;34m()\u001b[0m\n\u001b[0;32m----> <a href='vscode-notebook-cell:/Users/remeny/codeup-data-science/python-exercises/my_first_notebook.ipynb#ch0000010?line=0'>1</a>\u001b[0m \u001b[39mprint\u001b[39m(\u001b[39m'\u001b[39;49m\u001b[39m3 + 4 is \u001b[39;49m\u001b[39m'\u001b[39;49m \u001b[39m+\u001b[39;49m \u001b[39m3\u001b[39;49m \u001b[39m+\u001b[39m \u001b[39m4\u001b[39m)\n",
      "\u001b[0;31mTypeError\u001b[0m: can only concatenate str (not \"int\") to str"
     ]
    }
   ],
   "source": [
    "print('3 + 4 is ' + 3 + 4)"
   ]
  },
  {
   "cell_type": "code",
   "execution_count": 9,
   "metadata": {},
   "outputs": [
    {
     "name": "stdout",
     "output_type": "stream",
     "text": [
      "False\n"
     ]
    }
   ],
   "source": [
    "print(0 < 0)"
   ]
  },
  {
   "cell_type": "code",
   "execution_count": 10,
   "metadata": {},
   "outputs": [
    {
     "name": "stdout",
     "output_type": "stream",
     "text": [
      "False\n"
     ]
    }
   ],
   "source": [
    "print('False' == False)"
   ]
  },
  {
   "cell_type": "code",
   "execution_count": 11,
   "metadata": {},
   "outputs": [
    {
     "name": "stdout",
     "output_type": "stream",
     "text": [
      "False\n"
     ]
    }
   ],
   "source": [
    "print(True == 'True')"
   ]
  },
  {
   "cell_type": "code",
   "execution_count": 12,
   "metadata": {},
   "outputs": [
    {
     "name": "stdout",
     "output_type": "stream",
     "text": [
      "True\n"
     ]
    }
   ],
   "source": [
    "print(5 >= -5)"
   ]
  },
  {
   "cell_type": "code",
   "execution_count": 13,
   "metadata": {},
   "outputs": [
    {
     "name": "stdout",
     "output_type": "stream",
     "text": [
      "True\n"
     ]
    }
   ],
   "source": [
    "print(True or \"42\")"
   ]
  },
  {
   "cell_type": "code",
   "execution_count": 14,
   "metadata": {},
   "outputs": [
    {
     "name": "stdout",
     "output_type": "stream",
     "text": [
      "1\n"
     ]
    }
   ],
   "source": [
    "print(6 % 5)"
   ]
  },
  {
   "cell_type": "code",
   "execution_count": 15,
   "metadata": {},
   "outputs": [
    {
     "name": "stdout",
     "output_type": "stream",
     "text": [
      "False\n"
     ]
    }
   ],
   "source": [
    "print(5 < 4 and 1 == 1)"
   ]
  },
  {
   "cell_type": "code",
   "execution_count": 16,
   "metadata": {},
   "outputs": [
    {
     "name": "stdout",
     "output_type": "stream",
     "text": [
      "False\n"
     ]
    }
   ],
   "source": [
    "print('codeup' == 'codeup' and 'codeup' == 'Codeup')"
   ]
  },
  {
   "cell_type": "code",
   "execution_count": 19,
   "metadata": {},
   "outputs": [
    {
     "ename": "SyntaxError",
     "evalue": "invalid syntax (1914492157.py, line 1)",
     "output_type": "error",
     "traceback": [
      "\u001b[0;36m  Input \u001b[0;32mIn [19]\u001b[0;36m\u001b[0m\n\u001b[0;31m    print(4 >= 0 and 1 !== '1')\u001b[0m\n\u001b[0m                         ^\u001b[0m\n\u001b[0;31mSyntaxError\u001b[0m\u001b[0;31m:\u001b[0m invalid syntax\n"
     ]
    }
   ],
   "source": [
    "print(4 >= 0 and 1 !== '1')"
   ]
  },
  {
   "cell_type": "code",
   "execution_count": 20,
   "metadata": {},
   "outputs": [
    {
     "name": "stdout",
     "output_type": "stream",
     "text": [
      "True\n"
     ]
    }
   ],
   "source": [
    "print(6 % 3 == 0)"
   ]
  },
  {
   "cell_type": "code",
   "execution_count": 21,
   "metadata": {},
   "outputs": [
    {
     "name": "stdout",
     "output_type": "stream",
     "text": [
      "True\n"
     ]
    }
   ],
   "source": [
    "print(5 % 2 != 0) "
   ]
  },
  {
   "cell_type": "code",
   "execution_count": 23,
   "metadata": {},
   "outputs": [
    {
     "ename": "TypeError",
     "evalue": "can only concatenate list (not \"int\") to list",
     "output_type": "error",
     "traceback": [
      "\u001b[0;31m---------------------------------------------------------------------------\u001b[0m",
      "\u001b[0;31mTypeError\u001b[0m                                 Traceback (most recent call last)",
      "\u001b[1;32m/Users/remeny/codeup-data-science/python-exercises/my_first_notebook.ipynb Cell 22'\u001b[0m in \u001b[0;36m<cell line: 1>\u001b[0;34m()\u001b[0m\n\u001b[0;32m----> <a href='vscode-notebook-cell:/Users/remeny/codeup-data-science/python-exercises/my_first_notebook.ipynb#ch0000022?line=0'>1</a>\u001b[0m \u001b[39mprint\u001b[39m([\u001b[39m1\u001b[39;49m] \u001b[39m+\u001b[39;49m \u001b[39m2\u001b[39;49m)\n",
      "\u001b[0;31mTypeError\u001b[0m: can only concatenate list (not \"int\") to list"
     ]
    }
   ],
   "source": [
    "print([1] + 2)"
   ]
  },
  {
   "cell_type": "code",
   "execution_count": 25,
   "metadata": {},
   "outputs": [
    {
     "name": "stdout",
     "output_type": "stream",
     "text": [
      "[1, 2]\n"
     ]
    }
   ],
   "source": [
    "print([1] + [2])"
   ]
  },
  {
   "cell_type": "code",
   "execution_count": 26,
   "metadata": {},
   "outputs": [
    {
     "name": "stdout",
     "output_type": "stream",
     "text": [
      "[1, 1]\n"
     ]
    }
   ],
   "source": [
    "print([1] * 2)"
   ]
  },
  {
   "cell_type": "code",
   "execution_count": 27,
   "metadata": {},
   "outputs": [
    {
     "ename": "TypeError",
     "evalue": "can't multiply sequence by non-int of type 'list'",
     "output_type": "error",
     "traceback": [
      "\u001b[0;31m---------------------------------------------------------------------------\u001b[0m",
      "\u001b[0;31mTypeError\u001b[0m                                 Traceback (most recent call last)",
      "\u001b[1;32m/Users/remeny/codeup-data-science/python-exercises/my_first_notebook.ipynb Cell 25'\u001b[0m in \u001b[0;36m<cell line: 1>\u001b[0;34m()\u001b[0m\n\u001b[0;32m----> <a href='vscode-notebook-cell:/Users/remeny/codeup-data-science/python-exercises/my_first_notebook.ipynb#ch0000025?line=0'>1</a>\u001b[0m \u001b[39mprint\u001b[39m([\u001b[39m1\u001b[39;49m] \u001b[39m*\u001b[39;49m [\u001b[39m2\u001b[39;49m])\n",
      "\u001b[0;31mTypeError\u001b[0m: can't multiply sequence by non-int of type 'list'"
     ]
    }
   ],
   "source": [
    "print([1] * [2])"
   ]
  },
  {
   "cell_type": "code",
   "execution_count": 29,
   "metadata": {},
   "outputs": [
    {
     "name": "stdout",
     "output_type": "stream",
     "text": [
      "True\n"
     ]
    }
   ],
   "source": [
    "print([] + [] == [])"
   ]
  },
  {
   "cell_type": "code",
   "execution_count": 31,
   "metadata": {},
   "outputs": [
    {
     "ename": "TypeError",
     "evalue": "unsupported operand type(s) for +: 'dict' and 'dict'",
     "output_type": "error",
     "traceback": [
      "\u001b[0;31m---------------------------------------------------------------------------\u001b[0m",
      "\u001b[0;31mTypeError\u001b[0m                                 Traceback (most recent call last)",
      "\u001b[1;32m/Users/remeny/codeup-data-science/python-exercises/my_first_notebook.ipynb Cell 27'\u001b[0m in \u001b[0;36m<cell line: 1>\u001b[0;34m()\u001b[0m\n\u001b[0;32m----> <a href='vscode-notebook-cell:/Users/remeny/codeup-data-science/python-exercises/my_first_notebook.ipynb#ch0000027?line=0'>1</a>\u001b[0m \u001b[39mprint\u001b[39m({} \u001b[39m+\u001b[39;49m {})\n",
      "\u001b[0;31mTypeError\u001b[0m: unsupported operand type(s) for +: 'dict' and 'dict'"
     ]
    }
   ],
   "source": [
    "print({} + {})"
   ]
  },
  {
   "cell_type": "code",
   "execution_count": 3,
   "metadata": {},
   "outputs": [
    {
     "name": "stdout",
     "output_type": "stream",
     "text": [
      "$ 9 for 3 day(s)\n",
      "$ 15 for 5 day(s)\n",
      "$ 3 for 1 day(s)\n",
      "$27 to rent the movies.\n",
      "$ 9 for 3 day(s)\n",
      "$ 15 for 5 day(s)\n",
      "$ 3 for 1 day(s)\n"
     ]
    }
   ],
   "source": [
    "# You have rented some movies for your kids: The little mermaid (for 3 days), Brother Bear (for 5 days, they love it), and Hercules (1 day, you don't know yet if they're going to like it). If price for a movie per day is 3 dollars, how much will you have to pay? #\n",
    "\n",
    "def movierental(days):\n",
    "    price_of_movie_perday = 3\n",
    "    rentalfee = price_of_movie_perday * days\n",
    "    print(\"$ \" + str(rentalfee) + \" for \" + str(days) + \" day(s)\")\n",
    "    return rentalfee\n",
    "\n",
    "lm = movierental(3) #(giving 9)\n",
    "bb = movierental(5) #(giving 15)\n",
    "herc = movierental(1) # (giving 3)\n",
    "total = lm + bb + herc\n",
    "print(\"$\" + str(total) + \" to rent the movies.\")\n",
    "\n",
    "assert movierental(3) == 9\n",
    "assert movierental(5) == 15\n",
    "assert movierental(1) == 3"
   ]
  },
  {
   "cell_type": "code",
   "execution_count": 46,
   "metadata": {},
   "outputs": [
    {
     "name": "stdout",
     "output_type": "stream",
     "text": [
      "$7420 made this week.\n"
     ]
    }
   ],
   "source": [
    "google_PayPH = 400\n",
    "amazon_PayPH = 380\n",
    "fB_PayPH = 350\n",
    "google_Hours = 6\n",
    "amazon_Hours = 4\n",
    "fB_Hours = 10\n",
    "\n",
    "salary_This_Week = (google_PayPH * google_Hours) + (amazon_PayPH * amazon_Hours) + (fB_PayPH * fB_Hours)\n",
    "print(\"$\" + str(salary_This_Week) + \" made this week.\")"
   ]
  },
  {
   "cell_type": "code",
   "execution_count": 52,
   "metadata": {},
   "outputs": [
    {
     "name": "stdout",
     "output_type": "stream",
     "text": [
      "Can Attend\n",
      "No, Scheduling Conflict.\n",
      "No, The class if full.\n",
      "No, The class is full, and there's a Scheduling conflict.\n"
     ]
    }
   ],
   "source": [
    "def can_Enroll(room,time):\n",
    "    if room == True and time == True:\n",
    "        print(\"Can Attend\")\n",
    "        return \"yes\"\n",
    "    elif room == True and time == False:\n",
    "        print(\"No, Scheduling Conflict.\")\n",
    "        return \"sch\"\n",
    "    elif room == False and time == True:\n",
    "        print(\"No, The class if full.\")\n",
    "        return \"time\"\n",
    "    else:\n",
    "        print(\"No, The class is full, and there's a Scheduling conflict.\")\n",
    "        return \"both\"\n",
    "\n",
    "assert can_Enroll(True,True) == \"yes\"\n",
    "assert can_Enroll(True,False) == \"sch\"\n",
    "assert can_Enroll(False,True) == \"time\"\n",
    "assert can_Enroll(False,False) == \"both\""
   ]
  },
  {
   "cell_type": "code",
   "execution_count": 56,
   "metadata": {},
   "outputs": [
    {
     "name": "stdout",
     "output_type": "stream",
     "text": [
      "Sorry, this is not a Valid offer, please check number of items or current date!\n",
      "Congratulations! This offer is Valid!\n",
      "Congratulations! This offer is Valid!\n",
      "Sorry, this is not a Valid offer, please check number of items or current date!\n",
      "Sorry, this is not a Valid offer, please check number of items or current date!\n"
     ]
    }
   ],
   "source": [
    "def offervalid(items,date,prem):\n",
    "    itemcheck = (items > 2)\n",
    "    datecheck = (date < 8012022)\n",
    "    if itemcheck == True and datecheck == True or prem == True and datecheck == True:\n",
    "        print(\"Congratulations! This offer is Valid!\")\n",
    "        return True\n",
    "    elif itemcheck == False or datecheck == False:\n",
    "        print(\"Sorry, this is not a Valid offer, please check number of items or current date!\")\n",
    "        return False\n",
    "\n",
    "assert offervalid(2,7122022,False) == False\n",
    "assert offervalid(2,7122022,True) == True\n",
    "assert offervalid(4,7122022,False) == True\n",
    "assert offervalid(2,9122022,True) == False\n",
    "assert offervalid(6,9122022,False) == False"
   ]
  },
  {
   "cell_type": "code",
   "execution_count": 73,
   "metadata": {},
   "outputs": [
    {
     "name": "stdout",
     "output_type": "stream",
     "text": [
      "True True True True True True True True\n",
      "Your Username and Password have been accepted\n"
     ]
    }
   ],
   "source": [
    "def username_and_password(name,password):\n",
    "    strusername = str(name)\n",
    "    strpassword = str(password)\n",
    "    c = (len(strpassword) >= 5)\n",
    "    d = (len(strusername) <= 20)\n",
    "    e = (strpassword != strusername)\n",
    "    f = (strusername != strpassword)\n",
    "    g = (strusername[0] != \" \")\n",
    "    a = (strusername[-1] != \" \")\n",
    "    h = (strpassword[0] != \" \")\n",
    "    b = (strpassword[-1] != \" \")\n",
    "    print(a,b,c,d,e,f,g,h)\n",
    "    if a == False or b == False or c == False or d == False or e == False or f == False or g == False or h == False:\n",
    "        print(\"Please try another username or password\")\n",
    "        return False\n",
    "    else:\n",
    "        print(\"Your Username and Password have been accepted\")\n",
    "        return True\n",
    "\n",
    "\n",
    "\n",
    "assert username_and_password(\"codeup\",\"notastrongpassword\") == True"
   ]
  },
  {
   "cell_type": "code",
   "execution_count": 6,
   "metadata": {},
   "outputs": [
    {
     "name": "stdout",
     "output_type": "stream",
     "text": [
      "Today is not a Monday!\n"
     ]
    }
   ],
   "source": [
    "x = input(\"What day of the Week is it?\")\n",
    "if x.lower() == \"monday\":\n",
    "    print(\"Today is Monday...\")\n",
    "else:\n",
    "    print(\"Today is not a Monday!\")"
   ]
  },
  {
   "cell_type": "code",
   "execution_count": 16,
   "metadata": {},
   "outputs": [
    {
     "name": "stdout",
     "output_type": "stream",
     "text": [
      "Please enter a valid numeric value.\n"
     ]
    }
   ],
   "source": [
    "time = input(\"How many hours did you work this week?\")\n",
    "payph = 18\n",
    "if time.isnumeric() == True:\n",
    "    hours = int(time)\n",
    "    print(f\"Your pay this week is: ${hours * payph}\")\n",
    "else:\n",
    "    print(\"Please enter a valid numeric value.\")"
   ]
  },
  {
   "cell_type": "code",
   "execution_count": 24,
   "metadata": {},
   "outputs": [
    {
     "name": "stdout",
     "output_type": "stream",
     "text": [
      "5\n",
      "6\n",
      "7\n",
      "8\n",
      "9\n",
      "10\n",
      "11\n",
      "12\n",
      "13\n",
      "14\n",
      "15\n"
     ]
    }
   ],
   "source": [
    "# Loop Basics\n",
    "\n",
    "# While\n",
    "\n",
    "#   Create an integer variable i with a value of 5.\n",
    "\n",
    "#   Create a while loop that runs so long as i is less than or equal to 15\n",
    "i = 5\n",
    "while i <= 15:\n",
    "    print(i)\n",
    "    i +=1\n",
    "#   Each loop iteration, output the current value of i, then increment i by one.\n"
   ]
  },
  {
   "cell_type": "code",
   "execution_count": 27,
   "metadata": {},
   "outputs": [
    {
     "name": "stdout",
     "output_type": "stream",
     "text": [
      "0\n",
      "2\n",
      "4\n",
      "6\n",
      "8\n",
      "10\n",
      "12\n",
      "14\n",
      "16\n",
      "18\n",
      "20\n",
      "22\n",
      "24\n",
      "26\n",
      "28\n",
      "30\n",
      "32\n",
      "34\n",
      "36\n",
      "38\n",
      "40\n",
      "42\n",
      "44\n",
      "46\n",
      "48\n",
      "50\n",
      "52\n",
      "54\n",
      "56\n",
      "58\n",
      "60\n",
      "62\n",
      "64\n",
      "66\n",
      "68\n",
      "70\n",
      "72\n",
      "74\n",
      "76\n",
      "78\n",
      "80\n",
      "82\n",
      "84\n",
      "86\n",
      "88\n",
      "90\n",
      "92\n",
      "94\n",
      "96\n",
      "98\n",
      "100\n"
     ]
    }
   ],
   "source": [
    "x = 0\n",
    "while x <100:\n",
    "    print(x)\n",
    "    x +=2\n",
    "print(x)"
   ]
  },
  {
   "cell_type": "code",
   "execution_count": 1,
   "metadata": {},
   "outputs": [
    {
     "name": "stdout",
     "output_type": "stream",
     "text": [
      "100\n",
      "95\n",
      "90\n",
      "85\n",
      "80\n",
      "75\n",
      "70\n",
      "65\n",
      "60\n",
      "55\n",
      "50\n",
      "45\n",
      "40\n",
      "35\n",
      "30\n",
      "25\n",
      "20\n",
      "15\n",
      "10\n",
      "5\n",
      "0\n",
      "-5\n",
      "-10\n"
     ]
    }
   ],
   "source": [
    "x = 100\n",
    "while x > -10:\n",
    "    print(x)\n",
    "    x -=5\n",
    "print(x)"
   ]
  },
  {
   "cell_type": "code",
   "execution_count": 5,
   "metadata": {},
   "outputs": [
    {
     "name": "stdout",
     "output_type": "stream",
     "text": [
      "2\n",
      "4\n",
      "16\n",
      "256\n",
      "65536\n"
     ]
    }
   ],
   "source": [
    "x = 2\n",
    "while x < 1000000:\n",
    "    print(x)\n",
    "    x *= x"
   ]
  },
  {
   "cell_type": "code",
   "execution_count": 6,
   "metadata": {},
   "outputs": [
    {
     "name": "stdout",
     "output_type": "stream",
     "text": [
      "100\n",
      "95\n",
      "90\n",
      "85\n",
      "80\n",
      "75\n",
      "70\n",
      "65\n",
      "60\n",
      "55\n",
      "50\n",
      "45\n",
      "40\n",
      "35\n",
      "30\n",
      "25\n",
      "20\n",
      "15\n",
      "10\n",
      "5\n"
     ]
    }
   ],
   "source": [
    "x = 100\n",
    "while x > 0:\n",
    "    print (x)\n",
    "    x -=5"
   ]
  },
  {
   "cell_type": "code",
   "execution_count": 15,
   "metadata": {},
   "outputs": [
    {
     "name": "stdout",
     "output_type": "stream",
     "text": [
      " 42 * 1 is: 42\n",
      " 42 * 2 is: 84\n",
      " 42 * 3 is: 126\n",
      " 42 * 4 is: 168\n",
      " 42 * 5 is: 210\n",
      " 42 * 6 is: 252\n",
      " 42 * 7 is: 294\n",
      " 42 * 8 is: 336\n",
      " 42 * 9 is: 378\n",
      " 42 * 10 is: 420\n"
     ]
    }
   ],
   "source": [
    "multable = [1,2,3,4,5,6,7,8,9,10]\n",
    "x = input(\"Please enter the number you'd like to multiply\")\n",
    "if x.isnumeric() == True:\n",
    "    real_x = int(x)\n",
    "    for m in multable:\n",
    "        answer = m * real_x\n",
    "        print(f\" {x} * {m} is: {answer}\")\n",
    "else:\n",
    "    print(\"Please enter a valid numerical value [ex: -100, 10, 42]\")\n"
   ]
  },
  {
   "cell_type": "code",
   "execution_count": 21,
   "metadata": {},
   "outputs": [
    {
     "name": "stdout",
     "output_type": "stream",
     "text": [
      "1\n",
      "22\n",
      "333\n",
      "4444\n",
      "55555\n",
      "666666\n",
      "7777777\n",
      "88888888\n",
      "999999999\n"
     ]
    }
   ],
   "source": [
    "duptable = [1,2,3,4,5,6,7,8,9]\n",
    "x = input(\"Please enter the number you'd like to duplicate:\")\n",
    "for d in multable:\n",
    "    answer = d * x\n",
    "    fake_x = int(x)\n",
    "    x = str(fake_x + 1)\n",
    "    print(answer)"
   ]
  },
  {
   "cell_type": "code",
   "execution_count": 46,
   "metadata": {},
   "outputs": [
    {
     "name": "stdout",
     "output_type": "stream",
     "text": [
      "That number isn't BETWEEN 1 and 50.\n"
     ]
    }
   ],
   "source": [
    "odd = input(\"Please enter an odd number from 1-50: \")\n",
    "if odd.isnumeric() == True:\n",
    "    o = int(odd)\n",
    "# 50 isn't odd though... why not 49?\n",
    "    for num in range(50):\n",
    "        if o >=51 or o <=0:\n",
    "            print(\"That number isn't BETWEEN 1 and 50.\")\n",
    "            break\n",
    "        elif o % 2 == 0:\n",
    "            print(\"You entered an EVEN number, please enter an ODD one.\") \n",
    "            break\n",
    "        elif num % 2 == 0:\n",
    "            continue\n",
    "        elif num == o:\n",
    "            print(f\"Whoops! Skipping ... {o}!!\")\n",
    "        else:\n",
    "            print(f'Here is an odd number: {num}')\n",
    "else:\n",
    "    print(\"Is not a valid Numeral.\")"
   ]
  },
  {
   "cell_type": "code",
   "execution_count": 52,
   "metadata": {},
   "outputs": [
    {
     "name": "stdout",
     "output_type": "stream",
     "text": [
      "It's over 9,000! Are you trying to break your computer?\n"
     ]
    }
   ],
   "source": [
    "even = input(\"Please enter an even positive number to count to: \")\n",
    "if even.isnumeric() == True:\n",
    "    e = int(even)\n",
    "    z = 0\n",
    "    for num in range(e+1):\n",
    "        if e > 9000:\n",
    "            print(\"It's over 9,000! Are you trying to break your computer?\")\n",
    "            break\n",
    "        elif e % 2 == 1:\n",
    "            print(\"You entered an ODD number, did you even read the instructions?\") \n",
    "            break\n",
    "        elif num == e:\n",
    "            print(num)\n",
    "            print(f\"The end!\")\n",
    "        else:\n",
    "            print(z + num)\n",
    "else:\n",
    "    print(\"Is not a valid Numeral.\")"
   ]
  },
  {
   "cell_type": "code",
   "execution_count": 69,
   "metadata": {},
   "outputs": [
    {
     "name": "stdout",
     "output_type": "stream",
     "text": [
      "Is not a valid Numeral.\n"
     ]
    }
   ],
   "source": [
    "pos = input(\"Please enter positive number to count down from: \")\n",
    "if pos.isnumeric() == True:\n",
    "    p = int(pos)\n",
    "    if p > 9000:\n",
    "        print(\"You're still trying to break your computer, aren't you?\")\n",
    "    else:\n",
    "        while p > 0:\n",
    "            print(p)\n",
    "            p -=1\n",
    "else:\n",
    "    print(\"Is not a valid Numeral.\")"
   ]
  },
  {
   "cell_type": "code",
   "execution_count": 5,
   "metadata": {},
   "outputs": [
    {
     "name": "stdout",
     "output_type": "stream",
     "text": [
      "1\n",
      "2\n",
      "Fizz!\n",
      "4\n",
      "Buzz!\n",
      "Fizz!\n",
      "7\n",
      "8\n",
      "Fizz!\n",
      "Buzz!\n",
      "11\n",
      "Fizz!\n",
      "13\n",
      "14\n",
      "FizzBuzz!!\n",
      "16\n",
      "17\n",
      "Fizz!\n",
      "19\n",
      "Buzz!\n",
      "Fizz!\n",
      "22\n",
      "23\n",
      "Fizz!\n",
      "Buzz!\n",
      "26\n",
      "Fizz!\n",
      "28\n",
      "29\n",
      "FizzBuzz!!\n",
      "31\n",
      "32\n",
      "Fizz!\n",
      "34\n",
      "Buzz!\n",
      "Fizz!\n",
      "37\n",
      "38\n",
      "Fizz!\n",
      "Buzz!\n",
      "41\n",
      "Fizz!\n",
      "43\n",
      "44\n",
      "FizzBuzz!!\n",
      "46\n",
      "47\n",
      "Fizz!\n",
      "49\n",
      "Buzz!\n",
      "Fizz!\n",
      "52\n",
      "53\n",
      "Fizz!\n",
      "Buzz!\n",
      "56\n",
      "Fizz!\n",
      "58\n",
      "59\n",
      "FizzBuzz!!\n",
      "61\n",
      "62\n",
      "Fizz!\n",
      "64\n",
      "Buzz!\n",
      "Fizz!\n",
      "67\n",
      "68\n",
      "Fizz!\n",
      "Buzz!\n",
      "71\n",
      "Fizz!\n",
      "73\n",
      "74\n",
      "FizzBuzz!!\n",
      "76\n",
      "77\n",
      "Fizz!\n",
      "79\n",
      "Buzz!\n",
      "Fizz!\n",
      "82\n",
      "83\n",
      "Fizz!\n",
      "Buzz!\n",
      "86\n",
      "Fizz!\n",
      "88\n",
      "89\n",
      "FizzBuzz!!\n",
      "91\n",
      "92\n",
      "Fizz!\n",
      "94\n",
      "Buzz!\n",
      "Fizz!\n",
      "97\n",
      "98\n",
      "Fizz!\n",
      "Buzz!\n"
     ]
    }
   ],
   "source": [
    "for n in range(1,101):\n",
    "    if n % 3 == 0 and n % 5 == 0:\n",
    "        print(\"FizzBuzz!!\")\n",
    "    elif n % 3 == 0:\n",
    "        print(\"Fizz!\")\n",
    "    elif n % 5 == 0:\n",
    "        print(\"Buzz!\")\n",
    "    else:\n",
    "        print(n)"
   ]
  },
  {
   "cell_type": "code",
   "execution_count": 1,
   "metadata": {},
   "outputs": [
    {
     "name": "stdout",
     "output_type": "stream",
     "text": [
      "Here is your table!\n",
      "        \n",
      "  Number    Squared    Cubed\n",
      "--------  ---------  -------\n",
      "       1          1        1\n",
      "       2          4        8\n",
      "       3          9       27\n",
      "       4         16       64\n",
      "       5         25      125\n",
      "Here is your table!\n",
      "        \n",
      "  Number    Squared    Cubed\n",
      "--------  ---------  -------\n",
      "       1          1        1\n",
      "       2          4        8\n",
      "       3          9       27\n",
      "       4         16       64\n",
      "       5         25      125\n",
      "Here is your table!\n",
      "        \n",
      "  Number    Squared    Cubed\n",
      "--------  ---------  -------\n",
      "       1          1        1\n",
      "       2          4        8\n",
      "       3          9       27\n",
      "       4         16       64\n",
      "       5         25      125\n",
      "       6         36      216\n",
      "       7         49      343\n"
     ]
    }
   ],
   "source": [
    "from tabulate import tabulate\n",
    "\n",
    "yN = \"Y\"\n",
    "while yN == \"Y\":\n",
    "    num = input(\"What number would you like to go up to?\")\n",
    "    if num.isnumeric() == True:\n",
    "        print(format('''Here is your table!\n",
    "        '''))\n",
    "        n = int(num)\n",
    "        tab = []\n",
    "        for x in range (1, n+1):\n",
    "            answer = [x, x ** 2, x ** 3]\n",
    "            tab.append(answer)\n",
    "        print(tabulate(tab, headers = [\"Number\", \"Squared\", \"Cubed\"]))\n",
    "        yn = input(\"Do you wish to continue? (Y/N)\")\n",
    "        yN = yn.upper()\n",
    "    else:\n",
    "        print(\"Please enter a valid positive integer.\")"
   ]
  },
  {
   "cell_type": "code",
   "execution_count": 5,
   "metadata": {},
   "outputs": [
    {
     "name": "stdout",
     "output_type": "stream",
     "text": [
      "Your grade is... a B!\n",
      "Your grade is... an A!\n",
      "Your grade is... a B+!\n"
     ]
    }
   ],
   "source": [
    "cont = \"Y\"\n",
    "while cont == \"Y\":\n",
    "    grade = input(\"Please input the numerical value of your grade (0-100):\")\n",
    "    if grade.isnumeric() == True:\n",
    "        g = int(grade)\n",
    "        if g >= 99:\n",
    "            letter_grade = \"an A+!\"\n",
    "        elif g >= 88:\n",
    "            letter_grade = \"an A!\"\n",
    "        elif g >= 87:\n",
    "            letter_grade = \"a B+!\"\n",
    "        elif g >=80:\n",
    "            letter_grade = \"a B!\"\n",
    "        elif g >= 79:\n",
    "            letter_grade = \"a C+\"\n",
    "        elif g >= 67:\n",
    "            letter_grade = \"a C\"\n",
    "        elif g >= 66:\n",
    "            letter_grade = \"..a D+\"\n",
    "        elif g >= 60:\n",
    "            letter_grade = \"..a D\"\n",
    "        elif g >= 59:\n",
    "            letter_grade = \"...an F.. +? Can these even be a plus??\"\n",
    "        elif g < 59:\n",
    "            letter_grade = \"...an F? Uh oh.\"\n",
    "        else:\n",
    "            print(\"Something went wrong??\")\n",
    "        print(f\"Your grade is... {letter_grade}\")\n",
    "        cont_ans = input(\"Do you wish to continue? (Y/N)\")\n",
    "        cont = cont_ans.upper()\n",
    "    else:\n",
    "        print(\"Please enter a valid numerical value\")"
   ]
  },
  {
   "cell_type": "code",
   "execution_count": 8,
   "metadata": {},
   "outputs": [
    {
     "name": "stdout",
     "output_type": "stream",
     "text": [
      "16\n",
      "27.0\n",
      "432.0\n",
      "You worked Overtime! Your pay is 1440.0\n"
     ]
    }
   ],
   "source": [
    "time = input(\"How many hours did you work this week?\")\n",
    "payph = 18\n",
    "if time.isnumeric() == True:\n",
    "    hours = int(time)\n",
    "    if hours < 40 and hours > 0:\n",
    "        print(f\"Your pay this week is: ${hours * payph}\")\n",
    "    elif hours > 40:\n",
    "        ot = hours - 40\n",
    "        ot_pay = payph * 1.5\n",
    "        total_ot = ot_pay * ot\n",
    "        print(ot)\n",
    "        print(ot_pay)\n",
    "        print(total_ot)\n",
    "        print(f\"You worked Overtime! Your pay is {hours * payph + total_ot}\")\n",
    "else:\n",
    "    print(\"Please enter a valid numeric value.\")"
   ]
  },
  {
   "cell_type": "code",
   "execution_count": 25,
   "metadata": {},
   "outputs": [
    {
     "name": "stdout",
     "output_type": "stream",
     "text": [
      " Book Title: Monty\n"
     ]
    }
   ],
   "source": [
    "books = [\n",
    "    {\n",
    "        \"title\": \"Alice in Zombieland\",\n",
    "        \"author\": \"Icant Remember\",\n",
    "        \"genre\": \"Horror\",\n",
    "    },\n",
    "    {\n",
    "        \"title\": \"Mrs. Murphy's Mysteries\",\n",
    "        \"author\": \"Sneaky Pie Brown [Cat]\",\n",
    "        \"genre\": \"Mystery\",\n",
    "    },\n",
    "    {\n",
    "        \"title\": \"More titles here to test\",\n",
    "        \"author\": \"Every CoderEver\",\n",
    "        \"genre\": \"Horror\",\n",
    "    },\n",
    "    {\n",
    "        \"title\": \"Monty\",\n",
    "        \"author\": \"Python\",\n",
    "        \"genre\": \"Adventure\",\n",
    "    },\n",
    "    {\n",
    "        \"title\": \"Air Speed of Swallows\",\n",
    "        \"author\": \"Laiden, European\",\n",
    "        \"genre\": \"Reference\",\n",
    "    },\n",
    "    {\n",
    "        \"title\": \"She turned me into a Newt!\",\n",
    "        \"author\": \"Scare D. Peasant\",\n",
    "        \"genre\": \"Horror\",\n",
    "    },\n",
    "]\n",
    "\n",
    "gen = input(\"Please Enter a Genre you'd like to read:\")\n",
    "g = gen.lower()\n",
    "if g == \"horror\":\n",
    "    for x in books:\n",
    "        if x['genre'] == \"Horror\":\n",
    "            print(f\" Book Title: {x['title']}\")\n",
    "elif g == \"reference\":\n",
    "    for x in books:\n",
    "        if x['genre'] == \"Refrence\":\n",
    "            print(f\" Book Title: {x['title']}\")\n",
    "elif g == \"adventure\":\n",
    "    for x in books:\n",
    "        if x['genre'] == \"Adventure\":\n",
    "            print(f\" Book Title: {x['title']}\")\n",
    "elif g == \"mystery\":\n",
    "    for x in books:\n",
    "        if x['genre'] == \"Mystery\":\n",
    "            print(f\" Book Title: {x['title']}\")\n",
    "else:\n",
    "    print(\"The only available Genres are : Horror, Mystery, Adventure, and Reference.\")"
   ]
  },
  {
   "cell_type": "code",
   "execution_count": 3,
   "metadata": {},
   "outputs": [
    {
     "name": "stdout",
     "output_type": "stream",
     "text": [
      "True\n",
      "False\n",
      "\n"
     ]
    },
    {
     "name": "stdout",
     "output_type": "stream",
     "text": [
      "\u001b[0;31mSignature:\u001b[0m \u001b[0mis_two\u001b[0m\u001b[0;34m(\u001b[0m\u001b[0mx\u001b[0m\u001b[0;34m)\u001b[0m\u001b[0;34m\u001b[0m\u001b[0;34m\u001b[0m\u001b[0m\n",
      "\u001b[0;31mDocstring:\u001b[0m\n",
      "is_two:\n",
      "parameters: x, an int or string variable\n",
      "return True or False, dependant upon if x is numerical 2, string \"2\" or \"two\" or another not two input.\n",
      "\u001b[0;31mFile:\u001b[0m      /var/folders/q3/1b2t5ssx44b5gc0gsnqnd4ww0000gn/T/ipykernel_12147/1490923711.py\n",
      "\u001b[0;31mType:\u001b[0m      function\n"
     ]
    }
   ],
   "source": [
    "def is_two(x):\n",
    "    '''\n",
    "    is_two:\n",
    "    parameters: x, an int or string variable\n",
    "    return True or False, dependant upon if x is numerical 2, string \"2\" or \"two\" or another not two input.\n",
    "    '''\n",
    "    if x == 2 or x == \"2\" or x == \"two\":\n",
    "        return True\n",
    "    else:\n",
    "        return False\n",
    "\n",
    "print(is_two('2'))\n",
    "is_two?\n",
    "print(is_two(True))\n",
    "print()\n",
    "# this is very interesting how docstring is always at the end."
   ]
  },
  {
   "cell_type": "code",
   "execution_count": 70,
   "metadata": {},
   "outputs": [
    {
     "name": "stdout",
     "output_type": "stream",
     "text": [
      "True\n",
      "False\n",
      "\n",
      "True\n",
      "False\n",
      "\n",
      "Hello\n",
      "This is all lowercase\n",
      "and this starts with a vowel.\n",
      "\n",
      "talk!!_and_walk\n"
     ]
    },
    {
     "name": "stdout",
     "output_type": "stream",
     "text": [
      "\u001b[0;31mSignature:\u001b[0m \u001b[0mcon_caps\u001b[0m\u001b[0;34m(\u001b[0m\u001b[0ms\u001b[0m\u001b[0;34m)\u001b[0m\u001b[0;34m\u001b[0m\u001b[0;34m\u001b[0m\u001b[0m\n",
      "\u001b[0;31mDocstring:\u001b[0m\n",
      "con_caps:\n",
      "parameters: s, a string variable\n",
      "Checks if the first letter of a string, and capitalises it if the letter is a consonant.\n",
      "Utilises the \"is_vowel\" and \"is_consonant\" functions.\n",
      "\u001b[0;31mFile:\u001b[0m      /var/folders/q3/1b2t5ssx44b5gc0gsnqnd4ww0000gn/T/ipykernel_12147/3206304115.py\n",
      "\u001b[0;31mType:\u001b[0m      function\n"
     ]
    }
   ],
   "source": [
    "def is_vowel(a):\n",
    "    '''\n",
    "    is_vowel:\n",
    "    parameters: a, a string variable\n",
    "    returns True or False dependant upon whether the entered letter is a vowel or not. For this 'Y' is not a vowel.\n",
    "    '''\n",
    "    vowels = [\"a\", \"e\", \"i\", \"o\", \"u\"]\n",
    "    if a.lower() in vowels:\n",
    "        return True\n",
    "    else:\n",
    "        return False\n",
    "\n",
    "print(is_vowel('E'))\n",
    "print(is_vowel('f'))\n",
    "print()\n",
    "is_vowel?\n",
    "\n",
    "def is_consonant(b):\n",
    "    '''\n",
    "    is_consonant:\n",
    "    parameters: b, a string variable\n",
    "    returns True or False dependant upon whether the entered letter is a consonant or not. For this \"Y\" is a consonant.\n",
    "    this function calls upon the \"is_vowel\" function and returns the opposite result.\n",
    "    '''\n",
    "    if is_vowel(b) == True:\n",
    "        return False\n",
    "    else:\n",
    "        return True\n",
    "\n",
    "print(is_consonant('d'))\n",
    "print(is_consonant(\"A\"))\n",
    "print()\n",
    "is_consonant?\n",
    "\n",
    "def con_caps(s):\n",
    "    '''\n",
    "    con_caps:\n",
    "    parameters: s, a string variable\n",
    "    Checks if the first letter of a string, and capitalises it if the letter is a consonant.\n",
    "    Utilises the \"is_vowel\" and \"is_consonant\" functions.\n",
    "    '''\n",
    "    fl = s[0]\n",
    "    if is_consonant(fl) == True:\n",
    "        s = fl.upper() + s[1:]\n",
    "        # [index_number:] starts the word at the specified index number and continues from there. \n",
    "        # In this case dropping the first letter so I can add a capitalised one.\n",
    "        return s\n",
    "    else:\n",
    "        return s\n",
    "\n",
    "print(con_caps(\"hello\"))\n",
    "print(con_caps(\"this is all lowercase\"))\n",
    "print(con_caps(\"and this starts with a vowel.\"))\n",
    "print()\n",
    "con_caps?\n",
    "\n",
    "def normalize_name(name):\n",
    "    newname = name.strip()\n",
    "    newname = newname.lower()\n",
    "    for n in name:\n",
    "        if is_vowel(n) == False and is_consonant(n) == False and n != \"_\" and n != \" \":\n",
    "            newname = newname.replace(n,\"\")\n",
    "        else:\n",
    "            newname = newname.replace(\" \", \"_\")\n",
    "    return newname\n",
    "\n",
    "print(normalize_name(\"Talk!! and walk\"))"
   ]
  },
  {
   "cell_type": "code",
   "execution_count": 75,
   "metadata": {},
   "outputs": [
    {
     "name": "stdout",
     "output_type": "stream",
     "text": [
      "talk_and_walk\n"
     ]
    }
   ],
   "source": [
    "def normalize_name(name):\n",
    "    newname = \"\"\n",
    "    for n in name:\n",
    "        if n.isidentifier() or n == ' ':\n",
    "            newname += n\n",
    "\n",
    "    return newname.strip().lower().replace(\" \", \"_\")\n",
    "\n",
    "print(normalize_name(\"Talk!! And Walk!\"))"
   ]
  },
  {
   "cell_type": "code",
   "execution_count": 38,
   "metadata": {},
   "outputs": [
    {
     "name": "stdout",
     "output_type": "stream",
     "text": [
      "You should tip $20.00\n",
      "\n"
     ]
    },
    {
     "name": "stdout",
     "output_type": "stream",
     "text": [
      "\u001b[0;31mSignature:\u001b[0m \u001b[0mcalculate_tip\u001b[0m\u001b[0;34m(\u001b[0m\u001b[0mb\u001b[0m\u001b[0;34m,\u001b[0m \u001b[0mt\u001b[0m\u001b[0;34m)\u001b[0m\u001b[0;34m\u001b[0m\u001b[0;34m\u001b[0m\u001b[0m\n",
      "\u001b[0;31mDocstring:\u001b[0m\n",
      "calculate_tip:\n",
      "parameters: b, t  two numerical values, t requiring a percent.\n",
      "Will mutiply the Bill price (b) by the percentage you want to tip (t) to find the amount of money needed for tip.\n",
      "\u001b[0;31mFile:\u001b[0m      /var/folders/q3/1b2t5ssx44b5gc0gsnqnd4ww0000gn/T/ipykernel_12147/387104390.py\n",
      "\u001b[0;31mType:\u001b[0m      function\n"
     ]
    }
   ],
   "source": [
    "def calculate_tip(b, t):\n",
    "    '''calculate_tip:\n",
    "parameters: b, t,  two numerical values, t requiring a percent.\n",
    "Will mutiply the Bill price (b) by the percentage you want to tip (t) to find the amount of money needed for tip.\n",
    "'''\n",
    "\n",
    "    if t <= 0 or t >= 1:\n",
    "        return \"Please enter a valid tip percentage [ex: .20, 0.20]\"\n",
    "    else:\n",
    "        tip = b * t\n",
    "        return \"You should tip ${:.2f}\".format(tip)\n",
    "        # this formats the number to return the number to the tenths place.\n",
    "\n",
    "print(calculate_tip(100,.2))\n",
    "print()\n",
    "calculate_tip?"
   ]
  },
  {
   "cell_type": "code",
   "execution_count": 40,
   "metadata": {},
   "outputs": [
    {
     "name": "stdout",
     "output_type": "stream",
     "text": [
      "Your new price is 45.0\n",
      "\n"
     ]
    },
    {
     "name": "stdout",
     "output_type": "stream",
     "text": [
      "\u001b[0;31mSignature:\u001b[0m \u001b[0mapply_discount\u001b[0m\u001b[0;34m(\u001b[0m\u001b[0mo\u001b[0m\u001b[0;34m,\u001b[0m \u001b[0md\u001b[0m\u001b[0;34m)\u001b[0m\u001b[0;34m\u001b[0m\u001b[0;34m\u001b[0m\u001b[0m\n",
      "\u001b[0;31mDocstring:\u001b[0m\n",
      "apply_discount:\n",
      "parameters: o, d   two numerical values, d requiring a percent.\n",
      "Will multiply the original price by the discount, then remove the discount from the original price to give your new price with discount applied.\n",
      "\u001b[0;31mFile:\u001b[0m      /var/folders/q3/1b2t5ssx44b5gc0gsnqnd4ww0000gn/T/ipykernel_12147/3255244793.py\n",
      "\u001b[0;31mType:\u001b[0m      function\n"
     ]
    }
   ],
   "source": [
    "def apply_discount(o, d):\n",
    "    '''\n",
    "    apply_discount:\n",
    "    parameters: o, d,   two numerical values, d requiring a percent.\n",
    "    Will multiply the original price by the discount, then remove the discount from the original price to give your new price with discount applied.\n",
    "    '''\n",
    "    if d > 0 or d < 1:\n",
    "        dis = o * d\n",
    "        new_price = o - dis\n",
    "        return f\"Your new price is {new_price}\"\n",
    "    else:\n",
    "        return \"Please Enter a Valid Discount Percentage [ex: .20, 0.20]\"\n",
    "\n",
    "print(apply_discount(50,.10))\n",
    "print()\n",
    "apply_discount?"
   ]
  },
  {
   "cell_type": "code",
   "execution_count": 48,
   "metadata": {},
   "outputs": [
    {
     "name": "stdout",
     "output_type": "stream",
     "text": [
      "2000000\n"
     ]
    }
   ],
   "source": [
    "def handle_commas(dig):\n",
    "    '''\n",
    "    handle_commas:\n",
    "    parameters: dig, a string number with commas.\n",
    "    Will remove commas from a string number returning an int number\n",
    "    '''\n",
    "    dig = dig.replace(\",\", \"\")\n",
    "    # str.replace(old_str, new_str, [optional max times to replace])\n",
    "    int(dig)\n",
    "    return dig\n",
    "\n",
    "print(handle_commas(\"2,000,000\"))"
   ]
  },
  {
   "cell_type": "code",
   "execution_count": 52,
   "metadata": {},
   "outputs": [
    {
     "name": "stdout",
     "output_type": "stream",
     "text": [
      "Your grade is... an A!\n"
     ]
    }
   ],
   "source": [
    "def get_letter_grade(g):\n",
    "    '''\n",
    "    get_letter_grade:\n",
    "    parameters: g, an interger representing your grade percent.\n",
    "    takes the numerical value and returns the letter equivelant.\n",
    "    '''\n",
    "    if g >= 99:\n",
    "        letter_grade = \"an A+!\"\n",
    "    elif g >= 88:\n",
    "        letter_grade = \"an A!\"\n",
    "    elif g >= 87:\n",
    "        letter_grade = \"a B+!\"\n",
    "    elif g >=80:\n",
    "        letter_grade = \"a B!\"\n",
    "    elif g >= 79:\n",
    "        letter_grade = \"a C+\"\n",
    "    elif g >= 67:\n",
    "        letter_grade = \"a C\"\n",
    "    elif g >= 66:\n",
    "        letter_grade = \"..a D+\"\n",
    "    elif g >= 60:\n",
    "        letter_grade = \"..a D\"\n",
    "    elif g >= 59:\n",
    "        letter_grade = \"...an F.. +? Can these even be a plus??\"\n",
    "    elif g < 59:\n",
    "        letter_grade = \"...an F? Uh oh.\"\n",
    "    return f\"Your grade is... {letter_grade}\"\n",
    "\n",
    "print(get_letter_grade(93))"
   ]
  },
  {
   "cell_type": "code",
   "execution_count": 63,
   "metadata": {},
   "outputs": [
    {
     "name": "stdout",
     "output_type": "stream",
     "text": [
      "bcdfghjkllldss\n"
     ]
    }
   ],
   "source": [
    "def remove_vowels(v):\n",
    "    '''\n",
    "    remove_vowels:\n",
    "    parameters: v, a string with or without vowels.\n",
    "    Vowels are identified and removed from the string and the string is returned sans vowels.\n",
    "    '''\n",
    "    newv = v\n",
    "    vowels = ('a', 'e', 'i', 'o', 'u')\n",
    "    for x in v.lower():\n",
    "        if x in vowels:\n",
    "            newv = newv.replace(x,\"\")\n",
    "    return newv\n",
    "\n",
    "\n",
    "\n",
    "print(remove_vowels(\"abcdefghijklllidsias\"))"
   ]
  },
  {
   "cell_type": "code",
   "execution_count": 69,
   "metadata": {},
   "outputs": [
    {
     "name": "stdout",
     "output_type": "stream",
     "text": [
      "talk!!_and_walk\n"
     ]
    }
   ],
   "source": [
    "def normalize_name(name):\n",
    "    newname = name.strip()\n",
    "    newname = newname.lower()\n",
    "    for n in name:\n",
    "        if is_vowel(n) == False and is_consonant(n) == False and n != \"_\" and n != \" \":\n",
    "            newname = newname.replace(n,\"\")\n",
    "        else:\n",
    "            newname = newname.replace(\" \", \"_\")\n",
    "    return newname\n",
    "\n",
    "print(normalize_name(\"Talk!! and walk\"))"
   ]
  }
 ],
 "metadata": {
  "kernelspec": {
   "display_name": "Python 3.9.12",
   "language": "python",
   "name": "python3"
  },
  "language_info": {
   "codemirror_mode": {
    "name": "ipython",
    "version": 3
   },
   "file_extension": ".py",
   "mimetype": "text/x-python",
   "name": "python",
   "nbconvert_exporter": "python",
   "pygments_lexer": "ipython3",
   "version": "3.9.12"
  },
  "orig_nbformat": 4,
  "vscode": {
   "interpreter": {
    "hash": "40d3a090f54c6569ab1632332b64b2c03c39dcf918b08424e98f38b5ae0af88f"
   }
  }
 },
 "nbformat": 4,
 "nbformat_minor": 2
}
